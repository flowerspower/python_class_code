{
 "cells": [
  {
   "cell_type": "code",
   "execution_count": 30,
   "metadata": {
    "scrolled": true
   },
   "outputs": [
    {
     "name": "stdout",
     "output_type": "stream",
     "text": [
      "{8: 0, 3: 4, 5: 3}\n",
      "{8: [], 3: [3, 30, 21, 15], 5: [20, 30, 15]}\n"
     ]
    },
    {
     "data": {
      "text/plain": [
       "'\\nit should print out\\n{ 3:[3, 30, 21, 15, 99],\\n  5:[20, 30, 15],\\n  8:[]\\n}\\n'"
      ]
     },
     "execution_count": 30,
     "metadata": {},
     "output_type": "execute_result"
    }
   ],
   "source": [
    "numbers = [3, 20, 30, 21, 7, 15, 82]\n",
    "\n",
    "numbers_seeking_friends = [3, 5, 8]\n",
    "\n",
    "def find_friends(numbers, numbers_seeking_friends):\n",
    "    friends_dict = {}     \n",
    "    for lonely_number in numbers_seeking_friends:\n",
    "        friends_dict[lonely_number] = []\n",
    "        for number in numbers:\n",
    "            if number % lonely_number == 0:\n",
    "                friends_dict[lonely_number].append(number)\n",
    "    return friends_dict\n",
    "\n",
    "\n",
    "def find_friends_count(numbers, numbers_seeking_friends):\n",
    "    friends_count = {}     \n",
    "    for lonely_number in numbers_seeking_friends:\n",
    "        friends_count[lonely_number] = 0\n",
    "        for number in numbers:\n",
    "            if number % lonely_number == 0:\n",
    "                friends_count[lonely_number] += 1\n",
    "    return friends_count\n",
    " \n",
    "print find_friends_count(numbers, numbers_seeking_friends)    \n",
    "print find_friends(numbers, numbers_seeking_friends)\n",
    "'''\n",
    "it should print out\n",
    "{ 3:[3, 30, 21, 15, 99],\n",
    "  5:[20, 30, 15],\n",
    "  8:[]\n",
    "}\n",
    "'''"
   ]
  },
  {
   "cell_type": "code",
   "execution_count": null,
   "metadata": {
    "collapsed": true
   },
   "outputs": [],
   "source": []
  }
 ],
 "metadata": {
  "kernelspec": {
   "display_name": "Python 2",
   "language": "python",
   "name": "python2"
  },
  "language_info": {
   "codemirror_mode": {
    "name": "ipython",
    "version": 2
   },
   "file_extension": ".py",
   "mimetype": "text/x-python",
   "name": "python",
   "nbconvert_exporter": "python",
   "pygments_lexer": "ipython2",
   "version": "2.7.13"
  }
 },
 "nbformat": 4,
 "nbformat_minor": 2
}
