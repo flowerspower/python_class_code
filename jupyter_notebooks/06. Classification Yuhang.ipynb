{
 "cells": [
  {
   "cell_type": "markdown",
   "metadata": {},
   "source": [
    "# The Grand Poobah Classification Notebook\n",
    "In this notebook we will cover uses of scikit-learn for many different purposes including:\n",
    "- Cross Validation and metrics for scoring (including ROC and confusion matrices)\n",
    "- Pipelines\n",
    "- Common (nonlinear model) Classification:\n",
    " - K-Nearest Neighbors\n",
    " - Naive Bayes\n",
    " - Decision Trees\n",
    "- Bagging (Random Forests)\n",
    "- Boosting (Gradient of Error)\n",
    "- Statistical Comparison Questions\n",
    "\n",
    "We will look at some of the advanced features of scikit and look at many different ways of going about using the system to its fullest potential.\n",
    "\n",
    "- http://en.wikipedia.org/wiki/Grand_Poobah\n",
    "\n",
    "For this assignment we will use the LFW faces dataset and try to perform recognition of different individual's faces with several different classifiers. \n",
    "\n",
    "You can look up the dataset here:\n",
    " - http://vis-www.cs.umass.edu/lfw/"
   ]
  },
  {
   "cell_type": "code",
   "execution_count": 2,
   "metadata": {},
   "outputs": [],
   "source": [
    "# fetch the images for the dataset\n",
    "# this will take a long time the first run because it needs to download\n",
    "# after the first time, the dataset will be save to your disk (in sklearn package somewhere) \n",
    "# if this does not run, you may need additional libraries installed on your system (you will need to figure out which ones!!)\n",
    "from sklearn.datasets import fetch_lfw_people\n",
    "\n",
    "# only load people that have N or more examples in the dataset\n",
    "lfw_people = fetch_lfw_people(min_faces_per_person=20, resize=0.4) "
   ]
  },
  {
   "cell_type": "code",
   "execution_count": 8,
   "metadata": {},
   "outputs": [
    {
     "name": "stdout",
     "output_type": "stream",
     "text": [
      "<class 'sklearn.datasets.base.Bunch'>\n",
      "<type 'numpy.ndarray'>\n",
      "[  58.           92.66666412  156.66667175 ...,   19.           17.66666603\n",
      "   19.66666603]\n",
      "('Size of the dataset:', (3023, 1850))\n",
      "('Number of unique classes:', 62)\n",
      "['Alejandro Toledo' 'Alvaro Uribe' 'Amelie Mauresmo' 'Andre Agassi'\n",
      " 'Angelina Jolie' 'Ariel Sharon' 'Arnold Schwarzenegger'\n",
      " 'Atal Bihari Vajpayee' 'Bill Clinton' 'Carlos Menem' 'Colin Powell'\n",
      " 'David Beckham' 'Donald Rumsfeld' 'George Robertson' 'George W Bush'\n",
      " 'Gerhard Schroeder' 'Gloria Macapagal Arroyo' 'Gray Davis'\n",
      " 'Guillermo Coria' 'Hamid Karzai' 'Hans Blix' 'Hugo Chavez' 'Igor Ivanov'\n",
      " 'Jack Straw' 'Jacques Chirac' 'Jean Chretien' 'Jennifer Aniston'\n",
      " 'Jennifer Capriati' 'Jennifer Lopez' 'Jeremy Greenstock' 'Jiang Zemin'\n",
      " 'John Ashcroft' 'John Negroponte' 'Jose Maria Aznar' 'Juan Carlos Ferrero'\n",
      " 'Junichiro Koizumi' 'Kofi Annan' 'Laura Bush' 'Lindsay Davenport'\n",
      " 'Lleyton Hewitt' 'Luiz Inacio Lula da Silva' 'Mahmoud Abbas'\n",
      " 'Megawati Sukarnoputri' 'Michael Bloomberg' 'Naomi Watts'\n",
      " 'Nestor Kirchner' 'Paul Bremer' 'Pete Sampras' 'Recep Tayyip Erdogan'\n",
      " 'Ricardo Lagos' 'Roh Moo-hyun' 'Rudolph Giuliani' 'Saddam Hussein'\n",
      " 'Serena Williams' 'Silvio Berlusconi' 'Tiger Woods' 'Tom Daschle'\n",
      " 'Tom Ridge' 'Tony Blair' 'Vicente Fox' 'Vladimir Putin' 'Winona Ryder']\n",
      "[61 25  9 ..., 14 15 14]\n"
     ]
    },
    {
     "data": {
      "image/png": "[encoded data removed]",
      "text/plain": [
       "<matplotlib.figure.Figure at 0x11e409d50>"
      ]
     },
     "metadata": {},
     "output_type": "display_data"
    }
   ],
   "source": [
    "print type(lfw_people)\n",
    "print type(lfw_people.data)\n",
    "print lfw_people.data[0, :]\n",
    "\n",
    "\n",
    "print ('Size of the dataset:', lfw_people.data.shape)\n",
    "print ('Number of unique classes:', len(lfw_people.target_names))\n",
    "print lfw_people.target_names\n",
    "print lfw_people.target\n",
    "\n",
    "from matplotlib import pyplot as plt\n",
    "import numpy as np\n",
    "%matplotlib inline\n",
    "\n",
    "plt.hist(lfw_people.target, bins=len(lfw_people.target_names))\n",
    "plt.xlabel('Class value (one per face)')\n",
    "plt.ylabel('Class frequency')\n",
    "plt.show()"
   ]
  },
  {
   "cell_type": "code",
   "execution_count": 4,
   "metadata": {},
   "outputs": [
    {
     "name": "stdout",
     "output_type": "stream",
     "text": [
      "(0.0, 255.0)\n"
     ]
    },
    {
     "data": {
      "text/plain": [
       "array([ 102.33333588,  133.66667175,  143.66667175, ...,  175.33332825,\n",
       "        148.        ,   47.66666794], dtype=float32)"
      ]
     },
     "execution_count": 4,
     "metadata": {},
     "output_type": "execute_result"
    }
   ],
   "source": [
    "print(np.min(lfw_people.data), np.max(lfw_people.data))\n",
    "lfw_people.data[25]"
   ]
  },
  {
   "cell_type": "code",
   "execution_count": 5,
   "metadata": {},
   "outputs": [
    {
     "name": "stdout",
     "output_type": "stream",
     "text": [
      "George W Bush\n"
     ]
    },
    {
     "data": {
      "image/png": "[encoded data removed]",
      "text/plain": [
       "<matplotlib.figure.Figure at 0x117394910>"
      ]
     },
     "metadata": {},
     "output_type": "display_data"
    }
   ],
   "source": [
    "print(lfw_people.target_names[lfw_people.target[25]])\n",
    "h = 50\n",
    "w = 37\n",
    "fig = plt.figure(figsize=(7,3))\n",
    "plt.imshow(lfw_people.data[25].reshape((h, w)), \n",
    "           cmap=plt.cm.gray)\n",
    "plt.grid(False)"
   ]
  },
  {
   "cell_type": "markdown",
   "metadata": {},
   "source": [
    "# How should we choose training and testing splits??\n",
    "- cross validation, how many folds?\n",
    "- repeated holdout?\n",
    "- stratified?"
   ]
  },
  {
   "cell_type": "markdown",
   "metadata": {},
   "source": [
    "# Accuracy, precision, recall?\n",
    "- How do you perform precision or recall when there are mutliple classes?"
   ]
  },
  {
   "cell_type": "markdown",
   "metadata": {},
   "source": [
    "Recognizing faces is a classification procedure that we want to be accurate. **Detecting faces** might be something where we want low false positives (i.e., when we think there is a face, there should truly be one). Whereas we might be okay with more false negatives (i.e., we miss a few faces in the image). But this is **classification, not face detection**. Therefore, for this dataset it probably makes sense to be accurate overall--because we have many classes. However, we have such a class imbalance in this dataset that we also want to be aware of false positives and false negatives. \n",
    "\n",
    "Namely, an argument can be made for looking at false negatives/positives on a **per class basis**. For instance, an individual with lots of examples (i.e., a person with many examples in the dataset), we might prefer low false positives for that person. For a person with relatively few examples in the dataset we might prefer low false negatives (when we see an image of them, we identify them correctly). As such, we might breakup the dataset into different populations\n",
    "- (1) those that occur frequently (prefer low false positives or high precision)\n",
    "- (2) those that occur less frequently (prefer low false negatives or high recall)\n",
    "- (3) the entire dataset (prefer high accuracy)\n",
    "- (4) average accuracy per class (prefer everyone to have high true positive rate)\n",
    "- (5) NOTE: that recall and precision are not always dealt with like this! You should look at the structure of your application to decide how to apply accuracy, precision, recall or whatever validation measure best defines your data.\n",
    "\n",
    "Let's start with a simple classifier and ten fold cross validation, calculating accuracy to start."
   ]
  },
  {
   "cell_type": "code",
   "execution_count": 11,
   "metadata": {},
   "outputs": [
    {
     "name": "stdout",
     "output_type": "stream",
     "text": [
      "('Logistic regression accuracy', 0.57790274561693677)\n",
      "CPU times: user 45min 25s, sys: 10.9 s, total: 45min 36s\n",
      "Wall time: 1h 49min 58s\n"
     ]
    }
   ],
   "source": [
    "%%time\n",
    "from sklearn.neighbors import KNeighborsClassifier\n",
    "from sklearn.model_selection import StratifiedKFold\n",
    "from sklearn.preprocessing import StandardScaler\n",
    "import numpy as np\n",
    "from sklearn import metrics as mt\n",
    "from sklearn import linear_model\n",
    "\n",
    "# create variables we are more familiar with\n",
    "X = lfw_people.data\n",
    "y = lfw_people.target\n",
    "yhat = np.zeros(y.shape) # we will fill this with predictions\n",
    "\n",
    "scl = StandardScaler()\n",
    "X = scl.fit_transform(X)\n",
    "\n",
    "# create cross validation iterator\n",
    "cv = StratifiedKFold(n_splits=10)\n",
    "\n",
    "# get a handle to the classifier object, which defines the type\n",
    "#clf = KNeighborsClassifier(n_neighbors=3)\n",
    "clf = linear_model.LogisticRegression()\n",
    "# now iterate through and get predictions, saved to the correct row in yhat\n",
    "# NOTE: you can parallelize this using the cross_val_predict method\n",
    "for train, test in cv.split(X,y):\n",
    "    clf.fit(X[train],y[train])\n",
    "    yhat[test] = clf.predict(X[test])\n",
    "\n",
    "total_accuracy = mt.accuracy_score(y, yhat)\n",
    "print ('Logistic regression accuracy', total_accuracy)"
   ]
  },
  {
   "cell_type": "markdown",
   "metadata": {},
   "source": [
    "Well, that was not highly accurate. Let's get the accuracy up before measuring other performance. One thing that might help is reducing the dimensionality of the faces like we have done before. however, instead of manually coding the PCA step and then classifying, let's train a PipeLine in sklearn.\n",
    "\n",
    "A pipeline allows us to cascade operations. The pipeline can be setup to run PCA, then fit the reduced data with a classifier. The beauty of pipelines comes through when performing different cross validations."
   ]
  },
  {
   "cell_type": "code",
   "execution_count": 9,
   "metadata": {},
   "outputs": [
    {
     "name": "stdout",
     "output_type": "stream",
     "text": [
      "('KNN, pipeline accuracy', 0.36056897122064174)\n"
     ]
    }
   ],
   "source": [
    "from sklearn.decomposition import PCA \n",
    "from sklearn.pipeline import Pipeline\n",
    "\n",
    "# setup pipeline to take PCA, then fit a KNN classifier\n",
    "clf_pipe = Pipeline(\n",
    "    [('PCA_Eric',PCA(n_components=100,svd_solver='randomized')),\n",
    "     ('CLF_Eric',KNeighborsClassifier(n_neighbors=1))]\n",
    ")\n",
    "\n",
    "# now iterate through and get predictions, saved to the correct row in yhat\n",
    "for train, test in cv.split(X,y):\n",
    "    clf_pipe.fit(X[train],y[train])\n",
    "    yhat[test] = clf_pipe.predict(X[test])\n",
    "\n",
    "total_accuracy = mt.accuracy_score(y, yhat)\n",
    "print ('KNN, pipeline accuracy', total_accuracy)"
   ]
  },
  {
   "cell_type": "code",
   "execution_count": 17,
   "metadata": {},
   "outputs": [
    {
     "name": "stdout",
     "output_type": "stream",
     "text": [
      "('KNN only pipeline accuracy', 0.36850810453192195)\n",
      "('PCA + KNN pipeline accuracy', 0.36056897122064174)\n"
     ]
    }
   ],
   "source": [
    "# Added by Yuhang\n",
    "# Now we compare the accuracies of the two approaches on \n",
    "# the same 10 folds to ensure an apples-to-apples comparison\n",
    "\n",
    "from sklearn.decomposition import PCA \n",
    "from sklearn.pipeline import Pipeline\n",
    "\n",
    "k_nn = 1\n",
    "\n",
    "# setup pipeline to take PCA, then fit a KNN classifier\n",
    "clf_pipe_knn_only = Pipeline(\n",
    "    [('CLF',KNeighborsClassifier(n_neighbors=k_nn))]\n",
    ")\n",
    "\n",
    "# You can try a couple of different n_components values (such as 50, 100, 150, 200, 300, 400)\n",
    "# and see how accuracy changes\n",
    "clf_pipe_pca_knn = Pipeline(\n",
    "    [('PCA',PCA(n_components=100,svd_solver='randomized')),\n",
    "     ('CLF',KNeighborsClassifier(n_neighbors=k_nn))]\n",
    ")\n",
    "\n",
    "yhat_knn_only = np.zeros(y.shape) # we will fill this with predictions\n",
    "yhat_pca_knn = np.zeros(y.shape) # we will fill this with predictions\n",
    "\n",
    "# now iterate through and get predictions, saved to the correct row in yhat\n",
    "for train, test in cv.split(X,y):\n",
    "    clf_pipe_knn_only.fit(X[train],y[train])\n",
    "    yhat_knn_only[test] = clf_pipe_knn_only.predict(X[test])\n",
    "    clf_pipe_pca_knn.fit(X[train],y[train])\n",
    "    yhat_pca_knn[test] = clf_pipe_pca_knn.predict(X[test])\n",
    "    \n",
    "total_accuracy_knn_only = mt.accuracy_score(y, yhat_knn_only)\n",
    "print ('KNN only pipeline accuracy', total_accuracy_knn_only)\n",
    "total_accuracy_pca_knn = mt.accuracy_score(y, yhat_pca_knn)\n",
    "print ('PCA + KNN pipeline accuracy', total_accuracy_pca_knn)"
   ]
  },
  {
   "cell_type": "markdown",
   "metadata": {},
   "source": [
    "This is performing about the same overall. Lets take a look at the accuracy per class to get a better idea about how this is performing. To do this, we need to look at the confusion matrix. What classes are getting classified well?\n",
    "\n",
    "Scikit-learn implements confusion matrices as follows: \n",
    "\n",
    "![Confusion Matirx](http://scikit-learn.org/stable/_images/sphx_glr_plot_confusion_matrix_001.png)"
   ]
  },
  {
   "cell_type": "code",
   "execution_count": 18,
   "metadata": {},
   "outputs": [
    {
     "name": "stdout",
     "output_type": "stream",
     "text": [
      "('Average per class accuracy', 0.27668290764562786)\n"
     ]
    },
    {
     "data": {
      "image/png": "[encoded data removed]",
      "text/plain": [
       "<matplotlib.figure.Figure at 0x130e5e550>"
      ]
     },
     "metadata": {},
     "output_type": "display_data"
    }
   ],
   "source": [
    "def per_class_accuracy(ytrue, yhat):\n",
    "    conf = mt.confusion_matrix(ytrue,yhat)\n",
    "    norm_conf = conf.astype('float') / conf.sum(axis=1)[:, np.newaxis]\n",
    "    return np.diag(norm_conf)\n",
    "\n",
    "def plot_class_acc(ytrue, yhat, title=''):\n",
    "    acc_list = per_class_accuracy(ytrue,yhat)\n",
    "    print('Average per class accuracy', np.mean(acc_list))\n",
    "    plt.bar(range(len(acc_list)), acc_list)\n",
    "    plt.xlabel('Class value (one per face)')\n",
    "    plt.ylabel('Accuracy within class')\n",
    "    plt.title(title+\", Total Acc=%.1f\"%(100*mt.accuracy_score(ytrue,yhat)))\n",
    "    plt.grid()\n",
    "    plt.ylim([0,1])\n",
    "    plt.show()\n",
    "    \n",
    "plot_class_acc(y, yhat_pca_knn, title=\"KNN\")"
   ]
  },
  {
   "cell_type": "markdown",
   "metadata": {},
   "source": [
    "We don't seem to be doing very well... Perhaps we should change the classifier we are using--why would this be the case?"
   ]
  },
  {
   "cell_type": "code",
   "execution_count": 14,
   "metadata": {},
   "outputs": [
    {
     "name": "stdout",
     "output_type": "stream",
     "text": [
      "('Pipeline accuracy', 0.34369831293417136)\n",
      "('Average per class accuracy', 0.14125850732322998)\n"
     ]
    },
    {
     "data": {
      "image/png": "[encoded data removed]",
      "text/plain": [
       "<matplotlib.figure.Figure at 0x117388190>"
      ]
     },
     "metadata": {},
     "output_type": "display_data"
    },
    {
     "name": "stdout",
     "output_type": "stream",
     "text": [
      "CPU times: user 4min 47s, sys: 16.9 s, total: 5min 4s\n",
      "Wall time: 1min 20s\n"
     ]
    }
   ],
   "source": [
    "%%time\n",
    "from sklearn.ensemble import RandomForestClassifier\n",
    "\n",
    "clf_pipe = Pipeline(\n",
    "    [('PCA',PCA(n_components=100, svd_solver='randomized')),\n",
    "     ('CLF',RandomForestClassifier(max_depth=50, n_estimators=150, n_jobs=-1))\n",
    "#     ('CLF',RandomForestClassifier(max_depth=50, n_estimators=150, n_jobs=-1, class_weight='balanced'))\n",
    "    ]\n",
    ")\n",
    "\n",
    "# now iterate through and get predictions, saved to the correct row in yhat\n",
    "for train, test in cv.split(X,y):\n",
    "    clf_pipe.fit(X[train],y[train])\n",
    "    yhat[test] = clf_pipe.predict(X[test])\n",
    "    \n",
    "total_accuracy = mt.accuracy_score(y, yhat)\n",
    "print ('Pipeline accuracy', total_accuracy)\n",
    "plot_class_acc(y,yhat,title=\"Random Forest + PCA\")"
   ]
  },
  {
   "cell_type": "code",
   "execution_count": 15,
   "metadata": {},
   "outputs": [
    {
     "name": "stdout",
     "output_type": "stream",
     "text": [
      "('Accuracy', 0.39431028779358251)\n",
      "('Average per class accuracy', 0.24435243244747745)\n"
     ]
    },
    {
     "data": {
      "image/png": "[encoded data removed]",
      "text/plain": [
       "<matplotlib.figure.Figure at 0x10f3bd850>"
      ]
     },
     "metadata": {},
     "output_type": "display_data"
    },
    {
     "name": "stdout",
     "output_type": "stream",
     "text": [
      "CPU times: user 18min 45s, sys: 25.1 s, total: 19min 10s\n",
      "Wall time: 3min 55s\n"
     ]
    }
   ],
   "source": [
    "%%time\n",
    "from sklearn.ensemble import RandomForestClassifier\n",
    "\n",
    "clf = RandomForestClassifier(max_depth=50, n_estimators=150, n_jobs=-1, oob_score=True, class_weight='balanced')\n",
    "\n",
    "# now iterate through and get predictions, saved to the correct row in yhat\n",
    "for train, test in cv.split(X,y):\n",
    "    clf.fit(X[train],y[train])\n",
    "    yhat[test] = clf.predict(X[test])\n",
    "    \n",
    "total_accuracy = mt.accuracy_score(y, yhat)\n",
    "print ('Accuracy', total_accuracy)\n",
    "plot_class_acc(y,yhat,title=\"Random Forest, Raw\")"
   ]
  },
  {
   "cell_type": "code",
   "execution_count": 16,
   "metadata": {},
   "outputs": [
    {
     "name": "stdout",
     "output_type": "stream",
     "text": [
      "RandomForestClassifier(bootstrap=True, class_weight='balanced',\n",
      "            criterion='gini', max_depth=50, max_features='auto',\n",
      "            max_leaf_nodes=None, min_impurity_split=1e-07,\n",
      "            min_samples_leaf=1, min_samples_split=2,\n",
      "            min_weight_fraction_leaf=0.0, n_estimators=150, n_jobs=-1,\n",
      "            oob_score=True, random_state=None, verbose=0, warm_start=False)\n"
     ]
    },
    {
     "data": {
      "image/png": "[encoded data removed]",
      "text/plain": [
       "<matplotlib.figure.Figure at 0x117340e10>"
      ]
     },
     "metadata": {},
     "output_type": "display_data"
    },
    {
     "name": "stdout",
     "output_type": "stream",
     "text": [
      "('Generalization score estimate from training data', 0.37053245805981033)\n"
     ]
    }
   ],
   "source": [
    "# now lets get access to the different properties of our RF\n",
    "\n",
    "print (clf)\n",
    "\n",
    "plt.barh(range(len(clf.feature_importances_)), clf.feature_importances_)\n",
    "plt.show()\n",
    "\n",
    "print ('Generalization score estimate from training data', clf.oob_score_)"
   ]
  },
  {
   "cell_type": "code",
   "execution_count": 17,
   "metadata": {},
   "outputs": [
    {
     "data": {
      "image/png": "[encoded data removed]",
      "text/plain": [
       "<matplotlib.figure.Figure at 0x117333a10>"
      ]
     },
     "metadata": {},
     "output_type": "display_data"
    }
   ],
   "source": [
    "h = 50\n",
    "w = 37\n",
    "plt.imshow(clf.feature_importances_.reshape((h, w)), cmap=plt.cm.gray)\n",
    "plt.grid(False)\n",
    "plt.show()"
   ]
  },
  {
   "cell_type": "markdown",
   "metadata": {},
   "source": [
    "# Tree Ensemble Comparisons"
   ]
  },
  {
   "cell_type": "code",
   "execution_count": 36,
   "metadata": {
    "scrolled": true
   },
   "outputs": [
    {
     "name": "stdout",
     "output_type": "stream",
     "text": [
      "('Stump', 0.17439067391711846)\n",
      "('Tree', 0.17660129032865327)\n",
      "('Random Trees', 0.35415762965916803)\n",
      "('Extra Random Trees', 0.37801960942710483)\n",
      "CPU times: user 39.7 s, sys: 516 ms, total: 40.2 s\n",
      "Wall time: 40.4 s\n"
     ]
    }
   ],
   "source": [
    "%%time\n",
    "from sklearn.tree import DecisionTreeClassifier\n",
    "from sklearn.ensemble import RandomForestClassifier\n",
    "from sklearn.ensemble import ExtraTreesClassifier\n",
    "from sklearn.ensemble import GradientBoostingClassifier\n",
    "\n",
    "from sklearn.model_selection import cross_val_score\n",
    "\n",
    "num_estimators = 50\n",
    "# lets train some trees\n",
    "clf_array = [\n",
    "    ('Stump',              DecisionTreeClassifier(max_depth=1, min_samples_leaf=1)),\n",
    "    ('Tree',               DecisionTreeClassifier()),\n",
    "    ('Random Trees',       RandomForestClassifier(max_depth=50, n_estimators=num_estimators)),\n",
    "    ('Extra Random Trees', ExtraTreesClassifier(n_estimators=num_estimators,min_samples_split=2))\n",
    "#    ('Boosted Tree',       GradientBoostingClassifier(n_estimators=num_estimators)), #takes a long time\n",
    "    ]\n",
    "\n",
    "for clf in clf_array:\n",
    "    acc = cross_val_score(clf[1],X,y)\n",
    "    print (clf[0], acc.mean())"
   ]
  },
  {
   "cell_type": "code",
   "execution_count": 25,
   "metadata": {},
   "outputs": [
    {
     "name": "stdout",
     "output_type": "stream",
     "text": [
      "('Pipeline accuracy', 0.54713860403572612)\n",
      "('Average per class accuracy', 0.44979910936326967)\n"
     ]
    },
    {
     "data": {
      "image/png": "[encoded data removed]",
      "text/plain": [
       "<matplotlib.figure.Figure at 0x13a8283d0>"
      ]
     },
     "metadata": {},
     "output_type": "display_data"
    }
   ],
   "source": [
    "# from sklearn.svm import SVC\n",
    "# from sklearn.linear_model import LogisticRegression\n",
    "# from sklearn.linear_model import SGDClassifier\n",
    "from sklearn.naive_bayes import GaussianNB\n",
    "\n",
    "# setup pipeline to take PCA, then fit a different classifier\n",
    "clf_pipe = Pipeline(\n",
    "    [('PCA',PCA(n_components=100,svd_solver='randomized')),\n",
    "     ('CLF',GaussianNB())\n",
    "    ])\n",
    "\n",
    "# now iterate through and get predictions, saved to the correct row in yhat\n",
    "for train, test in cv.split(X,y):\n",
    "    clf_pipe.fit(X[train],y[train])\n",
    "    yhat[test] = clf_pipe.predict(X[test])\n",
    "\n",
    "total_accuracy = mt.accuracy_score(y, yhat)\n",
    "print ('Pipeline accuracy', total_accuracy)\n",
    "plot_class_acc(y,yhat,title=\"Naive Bayes + PCA\")"
   ]
  },
  {
   "cell_type": "code",
   "execution_count": 61,
   "metadata": {},
   "outputs": [
    {
     "name": "stdout",
     "output_type": "stream",
     "text": [
      "('Using', 10, 'PCs')\n",
      "('Using', 20, 'PCs')\n",
      "('Using', 30, 'PCs')\n",
      "('Using', 40, 'PCs')\n",
      "('Using', 50, 'PCs')\n",
      "('Using', 60, 'PCs')\n",
      "('Using', 70, 'PCs')\n",
      "('Using', 80, 'PCs')\n",
      "('Using', 90, 'PCs')\n",
      "('Using', 100, 'PCs')\n",
      "('Using', 110, 'PCs')\n",
      "('Using', 120, 'PCs')\n",
      "('Using', 130, 'PCs')\n",
      "('Using', 140, 'PCs')\n",
      "('Using', 150, 'PCs')\n",
      "('Using', 160, 'PCs')\n",
      "('Using', 170, 'PCs')\n",
      "('Using', 180, 'PCs')\n",
      "('Using', 190, 'PCs')\n",
      "('Using', 200, 'PCs')\n"
     ]
    },
    {
     "data": {
      "text/plain": [
       "<matplotlib.text.Text at 0x1150e1ad0>"
      ]
     },
     "execution_count": 61,
     "metadata": {},
     "output_type": "execute_result"
    },
    {
     "data": {
      "image/png": "[encoded data removed]",
      "text/plain": [
       "<matplotlib.figure.Figure at 0x11507fd10>"
      ]
     },
     "metadata": {},
     "output_type": "display_data"
    }
   ],
   "source": [
    "from sklearn.naive_bayes import GaussianNB\n",
    "\n",
    "pcs = range(10, 210, 10)\n",
    "accuracies = []\n",
    "\n",
    "for n in pcs:\n",
    "    print('Using', n, 'PCs')\n",
    "    # setup pipeline to take PCA, then fit a different classifier\n",
    "    clf_pipe = Pipeline(\n",
    "        [('PCA',PCA(n_components=n,svd_solver='randomized')),\n",
    "         ('CLF',GaussianNB())]\n",
    "    )\n",
    "\n",
    "    # now iterate through and get predictions, saved to the correct row in yhat\n",
    "    for train, test in cv.split(X,y):\n",
    "        clf_pipe.fit(X[train],y[train])\n",
    "        yhat[test] = clf_pipe.predict(X[test])\n",
    "\n",
    "    acc_list = per_class_accuracy(y,yhat)\n",
    "    accuracies.append(np.mean(acc_list))\n",
    "\n",
    "plt.plot(pcs, accuracies)\n",
    "plt.xlabel('PCs used')\n",
    "plt.ylabel('Average per class accuracy')\n"
   ]
  },
  {
   "cell_type": "code",
   "execution_count": 41,
   "metadata": {},
   "outputs": [
    {
     "name": "stdout",
     "output_type": "stream",
     "text": [
      "('Total Accuracy:', 0.49520344029110158)\n",
      "('Number of infrequent faces:', 43, 'with average recall of:', 0.32281099615120057)\n",
      "('Number of frequent faces:', 19, 'with average precision of:', 0.5083167966957598)\n"
     ]
    }
   ],
   "source": [
    "from sklearn import metrics as mt\n",
    "\n",
    "freq_infreq_threshold = 40\n",
    "\n",
    "# get various measures of performance\n",
    "total_accuracy = mt.accuracy_score(y, yhat)\n",
    "per_class_acc_list = per_class_accuracy(y,yhat)\n",
    "\n",
    "prec_for_freq_classes = []\n",
    "recall_for_infreq_classes = []\n",
    "rec_tot = []\n",
    "prec_tot = []\n",
    "\n",
    "for cls in np.unique(y):\n",
    "    idx = (y==cls) # get classes\n",
    "    ytmp_actual = np.zeros(y.shape) # make binary class problem\n",
    "    ytmp_actual[idx] = 1 # set the instances for this specific class\n",
    "    \n",
    "    ytmp_predicted = np.zeros(y.shape) # binary prediction array\n",
    "    ytmp_predicted[yhat==cls] = 1\n",
    "    \n",
    "    num_in_class = sum(idx)\n",
    "    \n",
    "    rec = mt.recall_score(ytmp_actual, ytmp_predicted)\n",
    "    prec = mt.precision_score(ytmp_actual, ytmp_predicted)\n",
    "    rec_tot.append(rec)\n",
    "    prec_tot.append(prec)\n",
    "    \n",
    "    if num_in_class < freq_infreq_threshold:\n",
    "        recall_for_infreq_classes.append(rec)\n",
    "    elif num_in_class >= freq_infreq_threshold:\n",
    "        prec_for_freq_classes.append(prec)\n",
    "        \n",
    "print ('Total Accuracy:',total_accuracy)\n",
    "print ('Number of infrequent faces:',len(recall_for_infreq_classes), \n",
    "       'with average recall of:', np.mean(recall_for_infreq_classes))\n",
    "print ('Number of frequent faces:',len(prec_for_freq_classes), \n",
    "       'with average precision of:',np.mean(prec_for_freq_classes))"
   ]
  },
  {
   "cell_type": "code",
   "execution_count": 43,
   "metadata": {},
   "outputs": [
    {
     "data": {
      "image/png": "[encoded data removed]",
      "text/plain": [
       "<matplotlib.figure.Figure at 0x1140cc250>"
      ]
     },
     "metadata": {},
     "output_type": "display_data"
    }
   ],
   "source": [
    "# But we can really summarize this data much better than this. \n",
    "# How about looking at more statistics of the precision and recall for each class?\n",
    "\n",
    "import seaborn as sns\n",
    "sns.set_palette(\"dark\")\n",
    "plt.figure(figsize=(15,5))\n",
    "plt.boxplot([per_class_acc_list, rec_tot, prec_tot, recall_for_infreq_classes,prec_for_freq_classes],\n",
    "            labels=['Per-Class Accuracy, all faces', 'Recall, all faces','Precision, all faces','Recall Infreq. faces','Prec Freq. faces'])\n",
    "plt.ylim([0,1])\n",
    "plt.show()"
   ]
  },
  {
   "cell_type": "code",
   "execution_count": 44,
   "metadata": {},
   "outputs": [
    {
     "data": {
      "image/png": "[encoded data removed]",
      "text/plain": [
       "<matplotlib.figure.Figure at 0x1140cc610>"
      ]
     },
     "metadata": {},
     "output_type": "display_data"
    }
   ],
   "source": [
    "# how about plotting a confusion matrix?\n",
    "cm = mt.confusion_matrix(y, yhat)\n",
    "plt.imshow(cm,cmap=plt.get_cmap('Reds'),aspect='auto')\n",
    "plt.grid(False)"
   ]
  },
  {
   "cell_type": "markdown",
   "metadata": {},
   "source": [
    "# What is the problem with this graph??"
   ]
  },
  {
   "cell_type": "code",
   "execution_count": 88,
   "metadata": {
    "collapsed": true
   },
   "outputs": [],
   "source": [
    "# %load -r 32-34 statcompare.py\n"
   ]
  },
  {
   "cell_type": "code",
   "execution_count": 66,
   "metadata": {},
   "outputs": [
    {
     "name": "stdout",
     "output_type": "stream",
     "text": [
      "('Pipeline accuracy', 0.5464770095931194)\n"
     ]
    }
   ],
   "source": [
    "from sklearn.naive_bayes import GaussianNB\n",
    "\n",
    "\n",
    "# setup pipeline to take PCA, then fit a different classifier\n",
    "clf_pipe = Pipeline(\n",
    "    [('PCA',PCA(n_components=100,svd_solver='randomized')),\n",
    "     ('CLF',GaussianNB())]\n",
    ")\n",
    "\n",
    "yhat_score = np.zeros((y.shape[0],len(lfw_people.target_names)))\n",
    "\n",
    "# now iterate through and get predictions, saved to the correct row in yhat\n",
    "for train, test in cv.split(X,y):\n",
    "    clf_pipe.fit(X[train],y[train])\n",
    "    yhat[test] = clf_pipe.predict(X[test])\n",
    "    yhat_score[test] = clf_pipe.predict_proba(X[test])\n",
    "\n",
    "total_accuracy = mt.accuracy_score(y, yhat)\n",
    "print ('Pipeline accuracy', total_accuracy)"
   ]
  },
  {
   "cell_type": "markdown",
   "metadata": {},
   "source": [
    "## Using the ROC Curve\n",
    "In the below example we can see how to graph the false negatives and false positives in an ROC curve for a given classifier. Please note that the \"scores\" from the classifier have already been populated using the code above. The scores can be interpretted as the the probability that a given class should be designated as positive. These scores are needed so that the ROC can change thresholds deciding if theclass is positive or negative. Once we have the scores, we can send each column of scores (i.e., the probability for that class being positive) into the ROC curve generator and it will give use the arrays of false positives and negatives for that class as the threshold is increased. \n",
    "\n",
    "We save the outputs into a dictionary of fpr and tpr (false positive and true positive rates). The keys to the dictionary are the class value. We can also compute the ROC treshold for all the classes by placing their probabilities into one giant vector and whether they should or should not be a value of one. Please note that this method of combining all classes into a single ROC is not considered a standard method--it has limited utility outside classifier comparison. If you understand the limitations it can be an effective tool. If not, then I would not recommend using it to compare models right away. "
   ]
  },
  {
   "cell_type": "code",
   "execution_count": 67,
   "metadata": {},
   "outputs": [
    {
     "data": {
      "image/png": "[encoded data removed]",
      "text/plain": [
       "<matplotlib.figure.Figure at 0x115d28b10>"
      ]
     },
     "metadata": {},
     "output_type": "display_data"
    }
   ],
   "source": [
    "import seaborn as sns\n",
    "sns.set_palette(\"dark\")\n",
    "# code manipulated from http://scikit-learn.org/stable/auto_examples/plot_roc.html\n",
    "from sklearn.preprocessing import label_binarize\n",
    "\n",
    "# Compute ROC curve for a subset of interesting classes\n",
    "fpr = dict()\n",
    "tpr = dict()\n",
    "roc_auc = dict()\n",
    "for i in np.unique(y):\n",
    "    fpr[i], tpr[i], _ = mt.roc_curve(y, yhat_score[:, i], pos_label=i)\n",
    "    roc_auc[i] = mt.auc(fpr[i], tpr[i])\n",
    "\n",
    "for i in np.random.permutation(60)[0:6]:\n",
    "    plt.plot(fpr[i], tpr[i], label='class {0} with {1} instances (area = {2:0.2f})'\n",
    "                                   ''.format(i, sum(y==i), roc_auc[i]))\n",
    "\n",
    "plt.legend(loc=\"lower right\")  \n",
    "plt.xlabel('False Positive Rate')\n",
    "plt.ylabel('True Positive Rate')\n",
    "plt.show()"
   ]
  },
  {
   "cell_type": "code",
   "execution_count": 76,
   "metadata": {},
   "outputs": [
    {
     "name": "stdout",
     "output_type": "stream",
     "text": [
      "(187426,)\n",
      "[[  3.31892867e-12   9.91842465e-01   6.97736135e-12 ...,   1.21415271e-14\n",
      "    6.09360816e-05   5.13934073e-04]\n",
      " [  1.13847997e-03   2.20606148e-06   1.48807019e-07 ...,   2.51650573e-04\n",
      "    3.20480886e-02   1.87121398e-08]\n",
      " [  8.95039695e-03   2.92180179e-07   1.57288676e-06 ...,   3.84121294e-05\n",
      "    1.41413823e-04   3.78643519e-05]\n",
      " ..., \n",
      " [  2.55071251e-03   1.42934934e-06   2.42560594e-07 ...,   1.51062776e-07\n",
      "    3.58332616e-06   5.42936478e-12]\n",
      " [  3.99828911e-07   1.03964667e-07   1.29601014e-11 ...,   1.31291647e-07\n",
      "    6.43366319e-07   1.02640049e-11]\n",
      " [  1.08938781e-05   4.86343392e-09   1.26281801e-08 ...,   1.19129077e-08\n",
      "    1.06433601e-05   2.91157415e-13]]\n"
     ]
    },
    {
     "data": {
      "text/plain": [
       "[<matplotlib.lines.Line2D at 0x10c0d3e50>]"
      ]
     },
     "execution_count": 76,
     "metadata": {},
     "output_type": "execute_result"
    },
    {
     "data": {
      "image/png": "[encoded data removed]",
      "text/plain": [
       "<matplotlib.figure.Figure at 0x114de8e10>"
      ]
     },
     "metadata": {},
     "output_type": "display_data"
    }
   ],
   "source": [
    "# combined ROC over all classes\n",
    "one_hot_class_encoding = label_binarize(y,np.unique(y))\n",
    "#print(one_hot_class_encoding)\n",
    "print(one_hot_class_encoding.ravel().shape)\n",
    "print(yhat_score)\n",
    "fpr[\"micro\"], tpr[\"micro\"], _ = mt.roc_curve(one_hot_class_encoding.ravel(), yhat_score.ravel())\n",
    "roc_auc[\"micro\"] = mt.auc(fpr[\"micro\"], tpr[\"micro\"])\n",
    "\n",
    "plt.figure(figsize=(12,4))\n",
    "plt.plot(fpr[\"micro\"], tpr[\"micro\"],\n",
    "         label='micro-average ROC curve (area = {0:0.2f})'\n",
    "               ''.format(roc_auc[\"micro\"]))"
   ]
  },
  {
   "cell_type": "markdown",
   "metadata": {},
   "source": [
    "# Statistical Comparison \n",
    "- how might you compare two classifiers trained on the exact same datasets?\n",
    "\n",
    "Note: if these cells are not loaded, you might need to run the `%load ` magic."
   ]
  },
  {
   "cell_type": "code",
   "execution_count": 84,
   "metadata": {
    "collapsed": true
   },
   "outputs": [],
   "source": [
    "# %load -r 1-15 statcompare.py\n"
   ]
  },
  {
   "cell_type": "code",
   "execution_count": 87,
   "metadata": {
    "collapsed": true
   },
   "outputs": [],
   "source": [
    "# %load -r 19-28 statcompare.py\n"
   ]
  },
  {
   "cell_type": "code",
   "execution_count": 28,
   "metadata": {},
   "outputs": [
    {
     "name": "stdout",
     "output_type": "stream",
     "text": [
      "Epoch 1/25\n",
      "2689/2689 [==============================] - 39s - loss: 3.8120 - acc: 0.1696    \n",
      "Epoch 2/25\n",
      "2689/2689 [==============================] - 38s - loss: 3.5767 - acc: 0.1986    \n",
      "Epoch 3/25\n",
      "2689/2689 [==============================] - 37s - loss: 3.3647 - acc: 0.2164    \n",
      "Epoch 4/25\n",
      "2689/2689 [==============================] - 38s - loss: 3.1779 - acc: 0.2581    \n",
      "Epoch 5/25\n",
      "2689/2689 [==============================] - 38s - loss: 2.8775 - acc: 0.3057    \n",
      "Epoch 6/25\n",
      "2689/2689 [==============================] - 38s - loss: 2.6883 - acc: 0.3518    \n",
      "Epoch 7/25\n",
      "2689/2689 [==============================] - 38s - loss: 2.5019 - acc: 0.3912    \n",
      "Epoch 8/25\n",
      "2689/2689 [==============================] - 38s - loss: 2.3392 - acc: 0.4187    \n",
      "Epoch 9/25\n",
      "2689/2689 [==============================] - 38s - loss: 2.1734 - acc: 0.4619    \n",
      "Epoch 10/25\n",
      "2689/2689 [==============================] - 38s - loss: 2.0446 - acc: 0.4820    \n",
      "Epoch 11/25\n",
      "2689/2689 [==============================] - 39s - loss: 1.8649 - acc: 0.5214    \n",
      "Epoch 12/25\n",
      "2689/2689 [==============================] - 38s - loss: 1.7450 - acc: 0.5474    \n",
      "Epoch 13/25\n",
      "2689/2689 [==============================] - 40s - loss: 1.6255 - acc: 0.5764    \n",
      "Epoch 14/25\n",
      "2689/2689 [==============================] - 40s - loss: 1.5799 - acc: 0.5961    \n",
      "Epoch 15/25\n",
      "2689/2689 [==============================] - 39s - loss: 1.4722 - acc: 0.6240    \n",
      "Epoch 16/25\n",
      "2689/2689 [==============================] - 40s - loss: 1.3918 - acc: 0.6303    \n",
      "Epoch 17/25\n",
      "2689/2689 [==============================] - 41s - loss: 1.3128 - acc: 0.6512    \n",
      "Epoch 18/25\n",
      "2689/2689 [==============================] - 39s - loss: 1.2350 - acc: 0.6727    \n",
      "Epoch 19/25\n",
      "2689/2689 [==============================] - 38s - loss: 1.2061 - acc: 0.6713    \n",
      "Epoch 20/25\n",
      "2689/2689 [==============================] - 38s - loss: 1.1030 - acc: 0.6991    \n",
      "Epoch 21/25\n",
      "2689/2689 [==============================] - 38s - loss: 1.1118 - acc: 0.6895    \n",
      "Epoch 22/25\n",
      "2689/2689 [==============================] - 38s - loss: 1.0253 - acc: 0.7170    \n",
      "Epoch 23/25\n",
      "2689/2689 [==============================] - 38s - loss: 0.9512 - acc: 0.7371    \n",
      "Epoch 24/25\n",
      "2689/2689 [==============================] - 38s - loss: 0.8975 - acc: 0.7412    \n",
      "Epoch 25/25\n",
      "2689/2689 [==============================] - 38s - loss: 0.8769 - acc: 0.7516    \n",
      "334/334 [==============================] - 2s     \n",
      "Epoch 1/25\n",
      "2699/2699 [==============================] - 39s - loss: 3.8130 - acc: 0.1678    \n",
      "Epoch 2/25\n",
      "2699/2699 [==============================] - 38s - loss: 3.5709 - acc: 0.1982    \n",
      "Epoch 3/25\n",
      "2699/2699 [==============================] - 38s - loss: 3.3568 - acc: 0.2342    \n",
      "Epoch 4/25\n",
      "2699/2699 [==============================] - 38s - loss: 3.0513 - acc: 0.2834    \n",
      "Epoch 5/25\n",
      "2699/2699 [==============================] - 38s - loss: 2.8163 - acc: 0.3405    \n",
      "Epoch 6/25\n",
      "2699/2699 [==============================] - 38s - loss: 2.5351 - acc: 0.3809    \n",
      "Epoch 7/25\n",
      "2699/2699 [==============================] - 38s - loss: 2.3262 - acc: 0.4320    \n",
      "Epoch 8/25\n",
      "2699/2699 [==============================] - 38s - loss: 2.1480 - acc: 0.4705    \n",
      "Epoch 9/25\n",
      "2699/2699 [==============================] - 38s - loss: 1.9347 - acc: 0.5094    \n",
      "Epoch 10/25\n",
      "2699/2699 [==============================] - 38s - loss: 1.7336 - acc: 0.5584    \n",
      "Epoch 11/25\n",
      "2699/2699 [==============================] - 38s - loss: 1.5849 - acc: 0.5902    \n",
      "Epoch 12/25\n",
      "2699/2699 [==============================] - 38s - loss: 1.4925 - acc: 0.6150    \n",
      "Epoch 13/25\n",
      "2699/2699 [==============================] - 38s - loss: 1.3867 - acc: 0.6228    \n",
      "Epoch 14/25\n",
      "2699/2699 [==============================] - 38s - loss: 1.2450 - acc: 0.6558    \n",
      "Epoch 15/25\n",
      "2699/2699 [==============================] - 38s - loss: 1.1414 - acc: 0.6788    \n",
      "Epoch 16/25\n",
      "2699/2699 [==============================] - 38s - loss: 1.0485 - acc: 0.7143    \n",
      "Epoch 17/25\n",
      "2699/2699 [==============================] - 38s - loss: 1.0173 - acc: 0.7169    \n",
      "Epoch 18/25\n",
      "2699/2699 [==============================] - 38s - loss: 0.9163 - acc: 0.7447    \n",
      "Epoch 19/25\n",
      "2699/2699 [==============================] - 38s - loss: 0.8111 - acc: 0.7766    \n",
      "Epoch 20/25\n",
      "2699/2699 [==============================] - 38s - loss: 0.7863 - acc: 0.7747    \n",
      "Epoch 21/25\n",
      "2699/2699 [==============================] - 38s - loss: 0.7308 - acc: 0.7833    \n",
      "Epoch 22/25\n",
      "2699/2699 [==============================] - 38s - loss: 0.6593 - acc: 0.7981    \n",
      "Epoch 23/25\n",
      "2699/2699 [==============================] - 38s - loss: 0.6272 - acc: 0.8222    \n",
      "Epoch 24/25\n",
      "2699/2699 [==============================] - 38s - loss: 0.5538 - acc: 0.8381    \n",
      "Epoch 25/25\n",
      "2699/2699 [==============================] - 38s - loss: 0.5564 - acc: 0.8355    \n",
      "320/324 [============================>.] - ETA: 0sEpoch 1/25\n",
      "2711/2711 [==============================] - 39s - loss: 3.8027 - acc: 0.1730    \n",
      "Epoch 2/25\n",
      "2711/2711 [==============================] - 38s - loss: 3.5657 - acc: 0.2014    \n",
      "Epoch 3/25\n",
      "2711/2711 [==============================] - 38s - loss: 3.3151 - acc: 0.2346    \n",
      "Epoch 4/25\n",
      "2711/2711 [==============================] - 38s - loss: 2.9963 - acc: 0.2844    \n",
      "Epoch 5/25\n",
      "2711/2711 [==============================] - 38s - loss: 2.7616 - acc: 0.3401    \n",
      "Epoch 6/25\n",
      "2711/2711 [==============================] - 38s - loss: 2.4843 - acc: 0.4010    \n",
      "Epoch 7/25\n",
      "2711/2711 [==============================] - 38s - loss: 2.2077 - acc: 0.4489    \n",
      "Epoch 8/25\n",
      "2711/2711 [==============================] - 38s - loss: 1.9937 - acc: 0.5079    \n",
      "Epoch 9/25\n",
      "2711/2711 [==============================] - 38s - loss: 1.7547 - acc: 0.5389    \n",
      "Epoch 10/25\n",
      "2711/2711 [==============================] - 38s - loss: 1.6233 - acc: 0.5732    \n",
      "Epoch 11/25\n",
      "2711/2711 [==============================] - 39s - loss: 1.4676 - acc: 0.6101    \n",
      "Epoch 12/25\n",
      "2711/2711 [==============================] - 39s - loss: 1.2989 - acc: 0.6555    \n",
      "Epoch 13/25\n",
      "2711/2711 [==============================] - 38s - loss: 1.1627 - acc: 0.6739    \n",
      "Epoch 14/25\n",
      "2711/2711 [==============================] - 38s - loss: 1.0674 - acc: 0.7149    \n",
      "Epoch 15/25\n",
      "2711/2711 [==============================] - 38s - loss: 0.9429 - acc: 0.7315    \n",
      "Epoch 16/25\n",
      "2711/2711 [==============================] - 38s - loss: 0.8963 - acc: 0.7473    \n",
      "Epoch 17/25\n",
      "2711/2711 [==============================] - 38s - loss: 0.7981 - acc: 0.7672    \n",
      "Epoch 18/25\n",
      "2711/2711 [==============================] - 38s - loss: 0.7118 - acc: 0.7923    \n",
      "Epoch 19/25\n",
      "2711/2711 [==============================] - 38s - loss: 0.6861 - acc: 0.8023    \n",
      "Epoch 20/25\n",
      "2711/2711 [==============================] - 38s - loss: 0.5748 - acc: 0.8244    \n",
      "Epoch 21/25\n",
      "2711/2711 [==============================] - 39s - loss: 0.5716 - acc: 0.8207    \n",
      "Epoch 22/25\n",
      "2711/2711 [==============================] - 38s - loss: 0.4944 - acc: 0.8536    \n",
      "Epoch 23/25\n",
      "2711/2711 [==============================] - 38s - loss: 0.4517 - acc: 0.8624    \n",
      "Epoch 24/25\n",
      "2711/2711 [==============================] - 38s - loss: 0.4436 - acc: 0.8639    \n",
      "Epoch 25/25\n",
      "2711/2711 [==============================] - 38s - loss: 0.4202 - acc: 0.8735    \n",
      "312/312 [==============================] - 1s     \n",
      "Epoch 1/25\n",
      "2718/2718 [==============================] - 40s - loss: 3.8410 - acc: 0.1674    \n",
      "Epoch 2/25\n",
      "2718/2718 [==============================] - 38s - loss: 3.5962 - acc: 0.1913    \n",
      "Epoch 3/25\n",
      "2718/2718 [==============================] - 38s - loss: 3.3617 - acc: 0.2358    \n",
      "Epoch 4/25\n",
      "2718/2718 [==============================] - 38s - loss: 3.1147 - acc: 0.2704    \n",
      "Epoch 5/25\n",
      "2718/2718 [==============================] - 38s - loss: 2.8257 - acc: 0.3348    \n",
      "Epoch 6/25\n",
      "2718/2718 [==============================] - 38s - loss: 2.5308 - acc: 0.3904    \n",
      "Epoch 7/25\n",
      "2718/2718 [==============================] - 38s - loss: 2.2856 - acc: 0.4371    \n",
      "Epoch 8/25\n",
      "2718/2718 [==============================] - 38s - loss: 2.0076 - acc: 0.4893    \n",
      "Epoch 9/25\n",
      "2718/2718 [==============================] - 38s - loss: 1.8535 - acc: 0.5305    \n",
      "Epoch 10/25\n",
      "2718/2718 [==============================] - 38s - loss: 1.6322 - acc: 0.5758    \n",
      "Epoch 11/25\n",
      "2718/2718 [==============================] - 38s - loss: 1.4437 - acc: 0.6100    \n",
      "Epoch 12/25\n",
      "2718/2718 [==============================] - 38s - loss: 1.2919 - acc: 0.6597    \n",
      "Epoch 13/25\n",
      "2718/2718 [==============================] - 38s - loss: 1.1298 - acc: 0.6913    \n",
      "Epoch 14/25\n",
      "2718/2718 [==============================] - 38s - loss: 1.0512 - acc: 0.7123    \n",
      "Epoch 15/25\n",
      "2718/2718 [==============================] - 38s - loss: 0.9410 - acc: 0.7425    \n",
      "Epoch 16/25\n",
      "2718/2718 [==============================] - 38s - loss: 0.8305 - acc: 0.7678    \n",
      "Epoch 17/25\n",
      "2718/2718 [==============================] - 39s - loss: 0.7474 - acc: 0.7881    \n",
      "Epoch 18/25\n",
      "2718/2718 [==============================] - 38s - loss: 0.6565 - acc: 0.8083    \n",
      "Epoch 19/25\n",
      "2718/2718 [==============================] - 38s - loss: 0.6380 - acc: 0.8113    \n",
      "Epoch 20/25\n",
      "2718/2718 [==============================] - 38s - loss: 0.5458 - acc: 0.8462    \n",
      "Epoch 21/25\n",
      "2718/2718 [==============================] - 38s - loss: 0.5381 - acc: 0.8411    \n",
      "Epoch 22/25\n",
      "2718/2718 [==============================] - 38s - loss: 0.4662 - acc: 0.8609    \n",
      "Epoch 23/25\n",
      "2718/2718 [==============================] - 38s - loss: 0.4646 - acc: 0.8572    \n",
      "Epoch 24/25\n",
      "2718/2718 [==============================] - 38s - loss: 0.4074 - acc: 0.8834    \n",
      "Epoch 25/25\n",
      "2718/2718 [==============================] - 38s - loss: 0.3731 - acc: 0.8845    \n",
      "305/305 [==============================] - 2s     \n",
      "Epoch 1/25\n",
      "2723/2723 [==============================] - 40s - loss: 3.8495 - acc: 0.1612    \n",
      "Epoch 2/25\n",
      "2723/2723 [==============================] - 38s - loss: 3.6308 - acc: 0.1884    \n",
      "Epoch 3/25\n",
      "2723/2723 [==============================] - 38s - loss: 3.4347 - acc: 0.2156    \n",
      "Epoch 4/25\n",
      "2723/2723 [==============================] - 38s - loss: 3.1709 - acc: 0.2574    \n",
      "Epoch 5/25\n",
      "2723/2723 [==============================] - 39s - loss: 2.8639 - acc: 0.3254    \n",
      "Epoch 6/25\n",
      "2723/2723 [==============================] - 38s - loss: 2.6451 - acc: 0.3632    \n",
      "Epoch 7/25\n",
      "2723/2723 [==============================] - 39s - loss: 2.3893 - acc: 0.4113    \n",
      "Epoch 8/25\n",
      "2723/2723 [==============================] - 39s - loss: 2.1726 - acc: 0.4602    \n",
      "Epoch 9/25\n",
      "2723/2723 [==============================] - 38s - loss: 1.9662 - acc: 0.4958    \n",
      "Epoch 10/25\n",
      "2723/2723 [==============================] - 38s - loss: 1.8320 - acc: 0.5270    \n",
      "Epoch 11/25\n",
      "2723/2723 [==============================] - 38s - loss: 1.6126 - acc: 0.5740    \n",
      "Epoch 12/25\n",
      "2723/2723 [==============================] - 38s - loss: 1.4730 - acc: 0.6133    \n",
      "Epoch 13/25\n",
      "2723/2723 [==============================] - 38s - loss: 1.3019 - acc: 0.6471    \n",
      "Epoch 14/25\n",
      "2723/2723 [==============================] - 38s - loss: 1.2167 - acc: 0.6735    \n",
      "Epoch 15/25\n",
      "2723/2723 [==============================] - 38s - loss: 1.1147 - acc: 0.6926    \n",
      "Epoch 16/25\n",
      "2723/2723 [==============================] - 38s - loss: 0.9835 - acc: 0.7279    \n",
      "Epoch 17/25\n",
      "2723/2723 [==============================] - 39s - loss: 0.8977 - acc: 0.7466    \n",
      "Epoch 18/25\n",
      "2723/2723 [==============================] - 38s - loss: 0.7899 - acc: 0.7775    \n",
      "Epoch 19/25\n",
      "2723/2723 [==============================] - 38s - loss: 0.7514 - acc: 0.7852    \n",
      "Epoch 20/25\n",
      "2723/2723 [==============================] - 38s - loss: 0.6688 - acc: 0.8072    \n",
      "Epoch 21/25\n",
      "2723/2723 [==============================] - 38s - loss: 0.6246 - acc: 0.8145    \n",
      "Epoch 22/25\n",
      "2723/2723 [==============================] - 38s - loss: 0.5668 - acc: 0.8259    \n",
      "Epoch 23/25\n",
      "2723/2723 [==============================] - 38s - loss: 0.5058 - acc: 0.8465    \n",
      "Epoch 24/25\n",
      "2723/2723 [==============================] - 38s - loss: 0.4966 - acc: 0.8579    \n",
      "Epoch 25/25\n",
      "2723/2723 [==============================] - 38s - loss: 0.4503 - acc: 0.8615    \n",
      "300/300 [==============================] - 2s     \n",
      "Epoch 1/25\n",
      "2726/2726 [==============================] - 40s - loss: 3.8284 - acc: 0.1691    \n",
      "Epoch 2/25\n",
      "2726/2726 [==============================] - 38s - loss: 3.5992 - acc: 0.2036    \n",
      "Epoch 3/25\n",
      "2726/2726 [==============================] - 38s - loss: 3.3492 - acc: 0.2417    \n",
      "Epoch 4/25\n",
      "2726/2726 [==============================] - 38s - loss: 3.1514 - acc: 0.2671    \n",
      "Epoch 5/25\n",
      "2726/2726 [==============================] - 38s - loss: 2.9003 - acc: 0.3144    \n",
      "Epoch 6/25\n",
      "2726/2726 [==============================] - 39s - loss: 2.5928 - acc: 0.3892    \n",
      "Epoch 7/25\n",
      "2726/2726 [==============================] - 38s - loss: 2.3258 - acc: 0.4277    \n",
      "Epoch 8/25\n",
      "2726/2726 [==============================] - 38s - loss: 2.1176 - acc: 0.4718    \n",
      "Epoch 9/25\n",
      "2726/2726 [==============================] - 38s - loss: 1.9456 - acc: 0.5029    \n",
      "Epoch 10/25\n",
      "2726/2726 [==============================] - 39s - loss: 1.7325 - acc: 0.5569    \n",
      "Epoch 11/25\n",
      "2726/2726 [==============================] - 38s - loss: 1.5827 - acc: 0.5921    \n",
      "Epoch 12/25\n",
      "2726/2726 [==============================] - 38s - loss: 1.4246 - acc: 0.6295    \n",
      "Epoch 13/25\n",
      "2726/2726 [==============================] - 38s - loss: 1.2802 - acc: 0.6570    \n",
      "Epoch 14/25\n",
      "2726/2726 [==============================] - 39s - loss: 1.1103 - acc: 0.6999    \n",
      "Epoch 15/25\n",
      "2726/2726 [==============================] - 38s - loss: 1.0455 - acc: 0.7047    \n",
      "Epoch 16/25\n",
      "2726/2726 [==============================] - 40s - loss: 0.9388 - acc: 0.7307    \n",
      "Epoch 17/25\n",
      "2726/2726 [==============================] - 39s - loss: 0.8534 - acc: 0.7652    \n",
      "Epoch 18/25\n",
      "2726/2726 [==============================] - 38s - loss: 0.7299 - acc: 0.7858    \n",
      "Epoch 19/25\n",
      "2726/2726 [==============================] - 38s - loss: 0.6802 - acc: 0.8078    \n",
      "Epoch 20/25\n",
      "2726/2726 [==============================] - 38s - loss: 0.6138 - acc: 0.8261    \n",
      "Epoch 21/25\n",
      "2726/2726 [==============================] - 38s - loss: 0.5704 - acc: 0.8206    \n",
      "Epoch 22/25\n",
      "2726/2726 [==============================] - 39s - loss: 0.5431 - acc: 0.8353    \n",
      "Epoch 23/25\n",
      "2726/2726 [==============================] - 39s - loss: 0.4849 - acc: 0.8569    \n",
      "Epoch 24/25\n",
      "2726/2726 [==============================] - 38s - loss: 0.4615 - acc: 0.8525    \n",
      "Epoch 25/25\n",
      "2726/2726 [==============================] - 39s - loss: 0.4237 - acc: 0.8723    \n",
      "288/297 [============================>.] - ETA: 0sEpoch 1/25\n",
      "2730/2730 [==============================] - 40s - loss: 3.8446 - acc: 0.1648    \n",
      "Epoch 2/25\n",
      "2730/2730 [==============================] - 38s - loss: 3.5866 - acc: 0.2000    \n",
      "Epoch 3/25\n",
      "2730/2730 [==============================] - 38s - loss: 3.3981 - acc: 0.2286    \n",
      "Epoch 4/25\n",
      "2730/2730 [==============================] - 40s - loss: 3.1178 - acc: 0.2744    \n",
      "Epoch 5/25\n",
      "2730/2730 [==============================] - 39s - loss: 2.8025 - acc: 0.3355    \n",
      "Epoch 6/25\n",
      "2730/2730 [==============================] - 38s - loss: 2.5642 - acc: 0.3784    \n",
      "Epoch 7/25\n",
      "2730/2730 [==============================] - 39s - loss: 2.3108 - acc: 0.4333    \n",
      "Epoch 8/25\n",
      "2730/2730 [==============================] - 38s - loss: 2.0224 - acc: 0.5106    \n",
      "Epoch 9/25\n",
      "2730/2730 [==============================] - 38s - loss: 1.8797 - acc: 0.5286    \n",
      "Epoch 10/25\n",
      "2730/2730 [==============================] - 39s - loss: 1.6152 - acc: 0.5832    \n",
      "Epoch 11/25\n",
      "2730/2730 [==============================] - 38s - loss: 1.5142 - acc: 0.5971    \n",
      "Epoch 12/25\n",
      "2730/2730 [==============================] - 39s - loss: 1.2952 - acc: 0.6586    \n",
      "Epoch 13/25\n",
      "2730/2730 [==============================] - 39s - loss: 1.1621 - acc: 0.6799    \n",
      "Epoch 14/25\n",
      "2730/2730 [==============================] - 39s - loss: 1.0872 - acc: 0.7055    \n",
      "Epoch 15/25\n",
      "2730/2730 [==============================] - 39s - loss: 0.9832 - acc: 0.7319    \n",
      "Epoch 16/25\n",
      "2730/2730 [==============================] - 39s - loss: 0.8848 - acc: 0.7568    \n",
      "Epoch 17/25\n",
      "2730/2730 [==============================] - 38s - loss: 0.7741 - acc: 0.7901    \n",
      "Epoch 18/25\n",
      "2730/2730 [==============================] - 38s - loss: 0.6968 - acc: 0.8095    \n",
      "Epoch 19/25\n",
      "2730/2730 [==============================] - 39s - loss: 0.6105 - acc: 0.8238    \n",
      "Epoch 20/25\n",
      "2730/2730 [==============================] - 39s - loss: 0.5934 - acc: 0.8348    \n",
      "Epoch 21/25\n"
     ]
    },
    {
     "name": "stdout",
     "output_type": "stream",
     "text": [
      "2730/2730 [==============================] - 39s - loss: 0.5060 - acc: 0.8473    \n",
      "Epoch 22/25\n",
      "2730/2730 [==============================] - 38s - loss: 0.4792 - acc: 0.8498    \n",
      "Epoch 23/25\n",
      "2730/2730 [==============================] - 38s - loss: 0.4392 - acc: 0.8641    \n",
      "Epoch 24/25\n",
      "2730/2730 [==============================] - 38s - loss: 0.4078 - acc: 0.8751    \n",
      "Epoch 25/25\n",
      "2730/2730 [==============================] - 39s - loss: 0.3706 - acc: 0.8930    \n",
      "288/293 [============================>.] - ETA: 0sEpoch 1/25\n",
      "2733/2733 [==============================] - 40s - loss: 3.8409 - acc: 0.1709    \n",
      "Epoch 2/25\n",
      "2733/2733 [==============================] - 39s - loss: 3.6028 - acc: 0.1976    \n",
      "Epoch 3/25\n",
      "2733/2733 [==============================] - 39s - loss: 3.3050 - acc: 0.2382    \n",
      "Epoch 4/25\n",
      "2733/2733 [==============================] - 38s - loss: 3.0943 - acc: 0.2821    \n",
      "Epoch 5/25\n",
      "2733/2733 [==============================] - 38s - loss: 2.8126 - acc: 0.3282    \n",
      "Epoch 6/25\n",
      "2733/2733 [==============================] - 39s - loss: 2.5656 - acc: 0.3802    \n",
      "Epoch 7/25\n",
      "2733/2733 [==============================] - 39s - loss: 2.2869 - acc: 0.4482    \n",
      "Epoch 8/25\n",
      "2733/2733 [==============================] - 38s - loss: 2.0964 - acc: 0.4786    \n",
      "Epoch 9/25\n",
      "2733/2733 [==============================] - 38s - loss: 1.9128 - acc: 0.5130    \n",
      "Epoch 10/25\n",
      "2733/2733 [==============================] - 39s - loss: 1.7218 - acc: 0.5576    \n",
      "Epoch 11/25\n",
      "2733/2733 [==============================] - 39s - loss: 1.5432 - acc: 0.6026    \n",
      "Epoch 12/25\n",
      "2733/2733 [==============================] - 39s - loss: 1.3538 - acc: 0.6279    \n",
      "Epoch 13/25\n",
      "2733/2733 [==============================] - 39s - loss: 1.2508 - acc: 0.6615    \n",
      "Epoch 14/25\n",
      "2733/2733 [==============================] - 40s - loss: 1.1381 - acc: 0.6985    \n",
      "Epoch 15/25\n",
      "2733/2733 [==============================] - 41s - loss: 0.9741 - acc: 0.7409    \n",
      "Epoch 16/25\n",
      "2733/2733 [==============================] - 39s - loss: 0.9205 - acc: 0.7439    \n",
      "Epoch 17/25\n",
      "2733/2733 [==============================] - 40s - loss: 0.8609 - acc: 0.7585    \n",
      "Epoch 18/25\n",
      "2733/2733 [==============================] - 39s - loss: 0.7640 - acc: 0.7750    \n",
      "Epoch 19/25\n",
      "2733/2733 [==============================] - 39s - loss: 0.6871 - acc: 0.8072    \n",
      "Epoch 20/25\n",
      "2733/2733 [==============================] - 40s - loss: 0.6041 - acc: 0.8207    \n",
      "Epoch 21/25\n",
      "2733/2733 [==============================] - 40s - loss: 0.5860 - acc: 0.8280    \n",
      "Epoch 22/25\n",
      "2733/2733 [==============================] - 41s - loss: 0.5290 - acc: 0.8430    \n",
      "Epoch 23/25\n",
      "2733/2733 [==============================] - 41s - loss: 0.4932 - acc: 0.8588    \n",
      "Epoch 24/25\n",
      "2733/2733 [==============================] - 41s - loss: 0.4190 - acc: 0.8771    \n",
      "Epoch 25/25\n",
      "2733/2733 [==============================] - 41s - loss: 0.4131 - acc: 0.8771    \n",
      "288/290 [============================>.] - ETA: 0sEpoch 1/25\n",
      "2736/2736 [==============================] - 43s - loss: 3.8264 - acc: 0.1586    \n",
      "Epoch 2/25\n",
      "2736/2736 [==============================] - 43s - loss: 3.6245 - acc: 0.1886    \n",
      "Epoch 3/25\n",
      "2736/2736 [==============================] - 42s - loss: 3.3602 - acc: 0.2164    \n",
      "Epoch 4/25\n",
      "2736/2736 [==============================] - 43s - loss: 3.0513 - acc: 0.2752    \n",
      "Epoch 5/25\n",
      "2736/2736 [==============================] - 43s - loss: 2.7635 - acc: 0.3319    \n",
      "Epoch 6/25\n",
      "2736/2736 [==============================] - 43s - loss: 2.4532 - acc: 0.4046    \n",
      "Epoch 7/25\n",
      "2736/2736 [==============================] - 44s - loss: 2.2181 - acc: 0.4444    \n",
      "Epoch 8/25\n",
      "2736/2736 [==============================] - 43s - loss: 1.9486 - acc: 0.4952    \n",
      "Epoch 9/25\n",
      "2736/2736 [==============================] - 42s - loss: 1.7424 - acc: 0.5537    \n",
      "Epoch 10/25\n",
      "2736/2736 [==============================] - 43s - loss: 1.5451 - acc: 0.5848    \n",
      "Epoch 11/25\n",
      "2736/2736 [==============================] - 45s - loss: 1.3564 - acc: 0.6389    \n",
      "Epoch 12/25\n",
      "2736/2736 [==============================] - 44s - loss: 1.2162 - acc: 0.6758    \n",
      "Epoch 13/25\n",
      "2736/2736 [==============================] - 44s - loss: 1.0755 - acc: 0.7145    \n",
      "Epoch 14/25\n",
      "2736/2736 [==============================] - 43s - loss: 0.9287 - acc: 0.7431    \n",
      "Epoch 15/25\n",
      "2736/2736 [==============================] - 42s - loss: 0.8331 - acc: 0.7672    \n",
      "Epoch 16/25\n",
      "2736/2736 [==============================] - 42s - loss: 0.7689 - acc: 0.7833    \n",
      "Epoch 17/25\n",
      "2736/2736 [==============================] - 43s - loss: 0.6966 - acc: 0.8004    \n",
      "Epoch 18/25\n",
      "2736/2736 [==============================] - 43s - loss: 0.6222 - acc: 0.8216    \n",
      "Epoch 19/25\n",
      "2736/2736 [==============================] - 42s - loss: 0.5946 - acc: 0.8227    \n",
      "Epoch 20/25\n",
      "2736/2736 [==============================] - 42s - loss: 0.4713 - acc: 0.8607    \n",
      "Epoch 21/25\n",
      "2736/2736 [==============================] - 44s - loss: 0.4487 - acc: 0.8615    \n",
      "Epoch 22/25\n",
      "2736/2736 [==============================] - 43s - loss: 0.4422 - acc: 0.8615    \n",
      "Epoch 23/25\n",
      "2736/2736 [==============================] - 43s - loss: 0.3790 - acc: 0.8860    \n",
      "Epoch 24/25\n",
      "2736/2736 [==============================] - 43s - loss: 0.3398 - acc: 0.8973    \n",
      "Epoch 25/25\n",
      "2736/2736 [==============================] - 42s - loss: 0.3500 - acc: 0.8980    \n",
      "287/287 [==============================] - 2s     \n",
      "Epoch 1/25\n",
      "2742/2742 [==============================] - 46s - loss: 3.8312 - acc: 0.1608    \n",
      "Epoch 2/25\n",
      "2742/2742 [==============================] - 43s - loss: 3.5904 - acc: 0.1966    \n",
      "Epoch 3/25\n",
      "2742/2742 [==============================] - 42s - loss: 3.3656 - acc: 0.2305    \n",
      "Epoch 4/25\n",
      "2742/2742 [==============================] - 42s - loss: 3.0961 - acc: 0.2794    \n",
      "Epoch 5/25\n",
      "2742/2742 [==============================] - 42s - loss: 2.8180 - acc: 0.3286    \n",
      "Epoch 6/25\n",
      "2742/2742 [==============================] - 46s - loss: 2.4927 - acc: 0.3950    \n",
      "Epoch 7/25\n",
      "2742/2742 [==============================] - 46s - loss: 2.2668 - acc: 0.4427    \n",
      "Epoch 8/25\n",
      "2742/2742 [==============================] - 45s - loss: 2.0220 - acc: 0.4934    \n",
      "Epoch 9/25\n",
      "2742/2742 [==============================] - 43s - loss: 1.7887 - acc: 0.5361    \n",
      "Epoch 10/25\n",
      "2742/2742 [==============================] - 42s - loss: 1.6251 - acc: 0.5821    \n",
      "Epoch 11/25\n",
      "2742/2742 [==============================] - 42s - loss: 1.4313 - acc: 0.6280    \n",
      "Epoch 12/25\n",
      "2742/2742 [==============================] - 43s - loss: 1.2879 - acc: 0.6546    \n",
      "Epoch 13/25\n",
      "2742/2742 [==============================] - 42s - loss: 1.0969 - acc: 0.6929    \n",
      "Epoch 14/25\n",
      "2742/2742 [==============================] - 42s - loss: 1.0062 - acc: 0.7166    \n",
      "Epoch 15/25\n",
      "2742/2742 [==============================] - 41s - loss: 0.9102 - acc: 0.7495    \n",
      "Epoch 16/25\n",
      "2742/2742 [==============================] - 44s - loss: 0.8385 - acc: 0.7640    \n",
      "Epoch 17/25\n",
      "2742/2742 [==============================] - 47s - loss: 0.7349 - acc: 0.7921    \n",
      "Epoch 18/25\n",
      "2742/2742 [==============================] - 43s - loss: 0.6666 - acc: 0.8001    \n",
      "Epoch 19/25\n",
      "2742/2742 [==============================] - 42s - loss: 0.5745 - acc: 0.8286    \n",
      "Epoch 20/25\n",
      "2742/2742 [==============================] - 43s - loss: 0.5095 - acc: 0.8497    \n",
      "Epoch 21/25\n",
      "2742/2742 [==============================] - 41s - loss: 0.4902 - acc: 0.8501    \n",
      "Epoch 22/25\n",
      "2742/2742 [==============================] - 42s - loss: 0.4386 - acc: 0.8629    \n",
      "Epoch 23/25\n",
      "2742/2742 [==============================] - 40s - loss: 0.4299 - acc: 0.8705    \n",
      "Epoch 24/25\n",
      "2742/2742 [==============================] - 41s - loss: 0.3668 - acc: 0.8869    \n",
      "Epoch 25/25\n",
      "2742/2742 [==============================] - 40s - loss: 0.3155 - acc: 0.8975    \n",
      "281/281 [==============================] - 2s     \n",
      "('Total accuracy', 0.70823685081045318)\n",
      "('Average per class accuracy', 0.59182217858921859)\n"
     ]
    },
    {
     "data": {
      "image/png": "[encoded data removed]",
      "text/plain": [
       "<matplotlib.figure.Figure at 0x16bea2d50>"
      ]
     },
     "metadata": {},
     "output_type": "display_data"
    }
   ],
   "source": [
    "# Added by Yuhang Wang\n",
    "# Using deep neural net to classify faces\n",
    "# To run this code, you will need to install keras first\n",
    "# https://anaconda.org/conda-forge/keras\n",
    "# I used Keras with tensorflow backend. For more info about Keras, see\n",
    "# https://keras.io/getting-started/sequential-model-guide/\n",
    "\n",
    "import numpy as np\n",
    "import keras\n",
    "from keras.models import Sequential\n",
    "from keras.layers import Dense, Dropout, Flatten, Activation\n",
    "from keras.layers import Conv2D, MaxPooling2D\n",
    "from keras.optimizers import SGD, rmsprop\n",
    "from keras.constraints import maxnorm\n",
    "\n",
    "# input image dimensions\n",
    "img_rows, img_cols = 50, 37\n",
    "num_classes = 62\n",
    "batch_size = 128\n",
    "epochs = 25\n",
    "\n",
    "# input: 50x37 images with 1 channel -> (50, 37, 1) tensors.\n",
    "input_shape = (img_rows, img_cols, 1)\n",
    "\n",
    "cv = StratifiedKFold(n_splits=10)\n",
    "\n",
    "# now iterate through and get predictions, saved to the correct row in yhat\n",
    "# NOTE: you can parallelize this using the cross_val_predict method\n",
    "yhat = np.zeros(y.shape) # we will fill this with predictions\n",
    "\n",
    "for train, test in cv.split(X,y):\n",
    "    x_train = X[train].reshape(X[train].shape[0], img_rows, img_cols, 1)\n",
    "    y_train = keras.utils.to_categorical(y[train], num_classes=num_classes)\n",
    "    x_test = X[test].reshape(X[test].shape[0], img_rows, img_cols, 1)\n",
    "    y_test = keras.utils.to_categorical(y[test], num_classes=num_classes)\n",
    "\n",
    "    model = Sequential()\n",
    "    model.add(Conv2D(64, kernel_size=(3, 3),\n",
    "                 activation='relu',\n",
    "                 input_shape=input_shape))\n",
    "\n",
    "    model.add(Conv2D(64, (3, 3), activation='relu'))\n",
    "    model.add(MaxPooling2D(pool_size=(2, 2)))\n",
    "    model.add(Dropout(0.25))\n",
    "    model.add(Conv2D(64, (3, 3), activation='relu'))\n",
    "    model.add(MaxPooling2D(pool_size=(2, 2)))\n",
    "    model.add(Dropout(0.25))\n",
    "    model.add(Flatten())\n",
    "    model.add(Dense(256, activation='relu'))\n",
    "    model.add(Dropout(0.5))\n",
    "    model.add(Dense(num_classes, activation='softmax'))\n",
    "\n",
    "    model.compile(loss='categorical_crossentropy', \n",
    "                  optimizer=keras.optimizers.Adadelta(),\n",
    "                  metrics=['accuracy'])\n",
    "\n",
    "    model.fit(x_train, y_train, batch_size=batch_size, epochs=epochs)\n",
    "    yhat[test] = model.predict_classes(x_test)\n",
    "\n",
    "total_accuracy = mt.accuracy_score(y, yhat)\n",
    "print ('Total accuracy', total_accuracy)\n",
    "plot_class_acc(y,yhat,title=\"Convolutional Neural Network\")"
   ]
  },
  {
   "cell_type": "code",
   "execution_count": null,
   "metadata": {
    "collapsed": true
   },
   "outputs": [],
   "source": []
  }
 ],
 "metadata": {
  "anaconda-cloud": {},
  "kernelspec": {
   "display_name": "Python 2",
   "language": "python",
   "name": "python2"
  },
  "language_info": {
   "codemirror_mode": {
    "name": "ipython",
    "version": 2
   },
   "file_extension": ".py",
   "mimetype": "text/x-python",
   "name": "python",
   "nbconvert_exporter": "python",
   "pygments_lexer": "ipython2",
   "version": "2.7.13"
  }
 },
 "nbformat": 4,
 "nbformat_minor": 1
}
